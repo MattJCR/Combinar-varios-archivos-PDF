{
  "nbformat": 4,
  "nbformat_minor": 0,
  "metadata": {
    "colab": {
      "provenance": [],
      "authorship_tag": "ABX9TyMHr/BJq89sVetvUGWCicj1",
      "include_colab_link": true
    },
    "kernelspec": {
      "name": "python3",
      "display_name": "Python 3"
    },
    "language_info": {
      "name": "python"
    }
  },
  "cells": [
    {
      "cell_type": "markdown",
      "metadata": {
        "id": "view-in-github",
        "colab_type": "text"
      },
      "source": [
        "<a href=\"https://colab.research.google.com/github/MattJCR/JAVA-MANUALES/blob/master/Subir_m%C3%BAltiples_documentos_Spring_boot_.ipynb\" target=\"_parent\"><img src=\"https://colab.research.google.com/assets/colab-badge.svg\" alt=\"Open In Colab\"/></a>"
      ]
    },
    {
      "cell_type": "markdown",
      "source": [
        "Para crear un endpoint en una aplicación Spring Boot que permita subir múltiples documentos PDF, puedes seguir los siguientes pasos:\n",
        "\n",
        "1. En tu clase de configuración de Spring Boot, agrega la dependencia de Apache Commons FileUpload a tu archivo pom.xml:"
      ],
      "metadata": {
        "id": "gmEHWMW3mgHR"
      }
    },
    {
      "cell_type": "code",
      "execution_count": null,
      "metadata": {
        "id": "GGBlcUctmZ07"
      },
      "outputs": [],
      "source": [
        "<dependency>\n",
        "  <groupId>commons-fileupload</groupId>\n",
        "  <artifactId>commons-fileupload</artifactId>\n",
        "  <version>1.4</version>\n",
        "</dependency>"
      ]
    },
    {
      "cell_type": "markdown",
      "source": [
        "2. En tu controlador, define el método del endpoint que manejará la solicitud de subida de archivos. Deberás usar la anotación @PostMapping y aceptar como parámetro un objeto MultipartHttpServletRequest:"
      ],
      "metadata": {
        "id": "gc8aUitymkcQ"
      }
    },
    {
      "cell_type": "code",
      "source": [
        "@PostMapping(\"/upload\")\n",
        "public ResponseEntity<?> uploadFiles(MultipartHttpServletRequest request) {\n",
        "  // ...\n",
        "}"
      ],
      "metadata": {
        "id": "MOnJRNWcmqNY"
      },
      "execution_count": null,
      "outputs": []
    },
    {
      "cell_type": "markdown",
      "source": [
        "3. Dentro del método, puedes obtener la lista de archivos subidos usando el método getFiles(\"fieldName\") del objeto MultipartHttpServletRequest. Este método devuelve una lista de objetos MultipartFile, que representan cada uno de los archivos subidos:"
      ],
      "metadata": {
        "id": "qWvN-Ngsmt15"
      }
    },
    {
      "cell_type": "code",
      "source": [
        "List<MultipartFile> files = request.getFiles(\"files\");"
      ],
      "metadata": {
        "id": "cS1l1kBpm1Yu"
      },
      "execution_count": null,
      "outputs": []
    },
    {
      "cell_type": "markdown",
      "source": [
        "4. Puedes iterar sobre la lista de archivos y procesarlos uno por uno. Por ejemplo, puedes escribir cada archivo a un directorio en el servidor usando el método transferTo() del objeto MultipartFile:"
      ],
      "metadata": {
        "id": "i7AO7ksXm3p-"
      }
    },
    {
      "cell_type": "code",
      "source": [
        "for (MultipartFile file : files) {\n",
        "  File destination = new File(\"/path/to/destination/\" + file.getOriginalFilename());\n",
        "  file.transferTo(destination);\n",
        "}"
      ],
      "metadata": {
        "id": "LNZ40PR7m6Tq"
      },
      "execution_count": null,
      "outputs": []
    },
    {
      "cell_type": "markdown",
      "source": [
        "5. Una vez que hayas procesado todos los archivos, puedes devolver una respuesta apropiada al cliente, como un código de estado HTTP 200 (éxito) y un mensaje de confirmación."
      ],
      "metadata": {
        "id": "hoOYAx8Im9Hk"
      }
    },
    {
      "cell_type": "code",
      "source": [
        "return ResponseEntity.ok(\"Files uploaded successfully\");"
      ],
      "metadata": {
        "id": "mzcTWjrLnCcF"
      },
      "execution_count": null,
      "outputs": []
    },
    {
      "cell_type": "markdown",
      "source": [
        "6. Quedaría de la siguiente manera:"
      ],
      "metadata": {
        "id": "JAfnQSMFnN5E"
      }
    },
    {
      "cell_type": "code",
      "source": [
        "@PostMapping(\"/upload\")\n",
        "public ResponseEntity<?> uploadFiles(\n",
        "    @ApiParam(value = \"files\", required = true) \n",
        "    @RequestParam(\"files\") MultipartFile[] files) {\n",
        "  for (MultipartFile file : files) {\n",
        "    File destination = new File(\"/path/to/destination/\" + file.getOriginalFilename());\n",
        "    file.transferTo(destination);\n",
        "  }\n",
        "  return ResponseEntity.ok(\"Files uploaded successfully\");\n",
        "}"
      ],
      "metadata": {
        "id": "0w0D7lpLnG0P"
      },
      "execution_count": null,
      "outputs": []
    }
  ]
}